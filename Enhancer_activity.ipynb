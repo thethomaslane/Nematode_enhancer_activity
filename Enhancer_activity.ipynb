{
 "cells": [
  {
   "cell_type": "markdown",
   "metadata": {},
   "source": [
    "# This experiment is trying to find an interaction between daf-12 and F11A1.3a.1"
   ]
  },
  {
   "cell_type": "code",
   "execution_count": 35,
   "metadata": {},
   "outputs": [],
   "source": [
    "\n",
    "import pandas as pd\n",
    "import random\n",
    "from Bio import motifs\n",
    "from Bio.Seq import Seq\n",
    "from Bio.SeqRecord import SeqRecord\n",
    "from Bio.Alphabet import IUPAC\n",
    "from Bio.SeqRecord import SeqRecord\n",
    "from Bio import SeqIO\n",
    "import os\n",
    "import matplotlib.pyplot as plt\n",
    "import numpy as np"
   ]
  },
  {
   "cell_type": "markdown",
   "metadata": {},
   "source": [
    "This cell reads the daf-12 TFBS motif"
   ]
  },
  {
   "cell_type": "code",
   "execution_count": 36,
   "metadata": {},
   "outputs": [
    {
     "data": {
      "text/plain": [
       "{'A': (0.14102564102564102,\n",
       "  0.4551282051282051,\n",
       "  0.21153846153846154,\n",
       "  0.14743589743589744,\n",
       "  0.0,\n",
       "  0.0,\n",
       "  0.0,\n",
       "  0.09615384615384616,\n",
       "  0.0,\n",
       "  0.00641025641025641,\n",
       "  0.0,\n",
       "  0.0,\n",
       "  0.20512820512820512,\n",
       "  0.10897435897435898,\n",
       "  0.10897435897435898),\n",
       " 'C': (0.1282051282051282,\n",
       "  0.0,\n",
       "  0.0,\n",
       "  0.3333333333333333,\n",
       "  0.0,\n",
       "  0.3333333333333333,\n",
       "  0.0,\n",
       "  0.16025641025641027,\n",
       "  0.1282051282051282,\n",
       "  0.0,\n",
       "  0.00641025641025641,\n",
       "  0.5064102564102564,\n",
       "  0.0,\n",
       "  0.1282051282051282,\n",
       "  0.27564102564102566),\n",
       " 'G': (0.7243589743589743,\n",
       "  0.08333333333333333,\n",
       "  0.7884615384615384,\n",
       "  0.038461538461538464,\n",
       "  1.0,\n",
       "  0.0,\n",
       "  1.0,\n",
       "  0.08974358974358974,\n",
       "  0.6217948717948718,\n",
       "  0.0,\n",
       "  0.9871794871794872,\n",
       "  0.10256410256410256,\n",
       "  0.5384615384615384,\n",
       "  0.1794871794871795,\n",
       "  0.358974358974359),\n",
       " 'T': (0.00641025641025641,\n",
       "  0.46153846153846156,\n",
       "  0.0,\n",
       "  0.4807692307692308,\n",
       "  0.0,\n",
       "  0.6666666666666666,\n",
       "  0.0,\n",
       "  0.6538461538461539,\n",
       "  0.25,\n",
       "  0.9935897435897436,\n",
       "  0.00641025641025641,\n",
       "  0.391025641025641,\n",
       "  0.2564102564102564,\n",
       "  0.5833333333333334,\n",
       "  0.2564102564102564)}"
      ]
     },
     "execution_count": 36,
     "metadata": {},
     "output_type": "execute_result"
    }
   ],
   "source": [
    "def motif_reader(path_name):\n",
    "   \n",
    "    \n",
    "    with open(path_name + \"MA0538.1.jaspar\") as handle:\n",
    "         word = motifs.read(handle, \"jaspar\")\n",
    "         handle.close()\n",
    "    \n",
    "\n",
    "    return word\n",
    "\n",
    "pwms = motif_reader(\"C:/Users/Lanes/bioinformatics/\")\n",
    "pwms.pwm"
   ]
  },
  {
   "cell_type": "markdown",
   "metadata": {},
   "source": [
    "This cell reads the F11A1.3a.1 sequence"
   ]
  },
  {
   "cell_type": "code",
   "execution_count": 43,
   "metadata": {},
   "outputs": [
    {
     "name": "stdout",
     "output_type": "stream",
     "text": [
      "Spliced\n",
      "Seq('cgcacatttcggcgcaacgggcgccaattaaATGGGCACAAATGGAGGAGTCAT...atc', IUPACUnambiguousDNA())\n",
      "3686\n"
     ]
    },
    {
     "data": {
      "text/plain": [
       "3686"
      ]
     },
     "execution_count": 43,
     "metadata": {},
     "output_type": "execute_result"
    }
   ],
   "source": [
    "for a in SeqIO.parse(\"C:/Users/Lanes/bioinformatics/daf13.fasta\", \"fasta\", alphabet=IUPAC.unambiguous_dna):\n",
    "    print(a.id)\n",
    "    print(repr(a.seq))\n",
    "    print(len(a))\n",
    "    \n",
    "len(a.seq)\n",
    "   "
   ]
  },
  {
   "cell_type": "code",
   "execution_count": 45,
   "metadata": {
    "scrolled": true
   },
   "outputs": [
    {
     "name": "stdout",
     "output_type": "stream",
     "text": [
      "Position -2984: score = 6.692\n"
     ]
    }
   ],
   "source": [
    "pssm = pwms.pwm.log_odds()\n",
    "for position, score in pssm.search(a.seq, threshold=3.0):\n",
    "     print(\"Position %d: score = %5.3f\" % (position, score))"
   ]
  }
 ],
 "metadata": {
  "kernelspec": {
   "display_name": "Python 3",
   "language": "python",
   "name": "python3"
  },
  "language_info": {
   "codemirror_mode": {
    "name": "ipython",
    "version": 3
   },
   "file_extension": ".py",
   "mimetype": "text/x-python",
   "name": "python",
   "nbconvert_exporter": "python",
   "pygments_lexer": "ipython3",
   "version": "3.6.4"
  }
 },
 "nbformat": 4,
 "nbformat_minor": 2
}
